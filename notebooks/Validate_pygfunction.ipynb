{
 "cells": [
  {
   "cell_type": "code",
   "execution_count": null,
   "metadata": {},
   "outputs": [],
   "source": [
    "import os\n",
    "import sys\n",
    "\n",
    "import numpy as np\n",
    "import pygfunction as gt\n",
    "\n",
    "from math import exp, log"
   ]
  },
  {
   "cell_type": "code",
   "execution_count": null,
   "metadata": {},
   "outputs": [],
   "source": [
    "import matplotlib.pyplot as plt\n",
    "%matplotlib inline"
   ]
  },
  {
   "cell_type": "code",
   "execution_count": null,
   "metadata": {},
   "outputs": [],
   "source": [
    "plt.style.use('ggplot')\n",
    "plt.rcParams['figure.figsize'] = [15, 9]\n",
    "plt.rcParams['font.size'] = 14\n",
    "\n",
    "# pd.set_option('display.max_columns', None)\n",
    "# pd.set_option('display.max_rows', None)"
   ]
  },
  {
   "cell_type": "markdown",
   "metadata": {},
   "source": [
    "![Field A-B](Field-A-B.PNG)"
   ]
  },
  {
   "cell_type": "code",
   "execution_count": null,
   "metadata": {},
   "outputs": [],
   "source": [
    "bf_A = gt.boreholes.rectangle_field(N_1=1, N_2=2, B_1=5, B_2=5, H=100, D=1, r_b=0.05)"
   ]
  },
  {
   "cell_type": "code",
   "execution_count": null,
   "metadata": {},
   "outputs": [],
   "source": [
    "bf_A"
   ]
  },
  {
   "cell_type": "code",
   "execution_count": null,
   "metadata": {},
   "outputs": [],
   "source": [
    "alpha = 1e-6\n",
    "ts = H**2/(9.*alpha)"
   ]
  },
  {
   "cell_type": "code",
   "execution_count": null,
   "metadata": {},
   "outputs": [],
   "source": [
    "lntts = np.arange(-8.5, 3.25, 0.5)"
   ]
  },
  {
   "cell_type": "code",
   "execution_count": null,
   "metadata": {},
   "outputs": [],
   "source": [
    "time = np.exp(lntts) * ts"
   ]
  },
  {
   "cell_type": "code",
   "execution_count": null,
   "metadata": {},
   "outputs": [],
   "source": [
    "pyg_A = gt.gfunction.uniform_heat_extraction(bf_A, time, alpha, disp=True)"
   ]
  },
  {
   "cell_type": "code",
   "execution_count": null,
   "metadata": {},
   "outputs": [],
   "source": [
    "cpp_data_A = np.genfromtxt('../examples/1x2-self_1x2_cross_out.csv', \n",
    "                           delimiter=',', \n",
    "                           skip_header=1, \n",
    "                           unpack=True)"
   ]
  },
  {
   "cell_type": "code",
   "execution_count": null,
   "metadata": {},
   "outputs": [],
   "source": [
    "cpp_g_self_A = cpp_data_A[1][:]\n",
    "cpp_g_cross_A = cpp_data_A[2][:]"
   ]
  },
  {
   "cell_type": "code",
   "execution_count": null,
   "metadata": {},
   "outputs": [],
   "source": [
    "plt.plot(lntts, pyg_A, linestyle='--', marker='x', label='pygfunction (A-self)')\n",
    "plt.plot(lntts, cpp_g_self_A, linestyle='-', marker='o', label='C++ (A-self)')\n",
    "plt.plot(lntts, cpp_g_cross_A, linestyle=':', marker='X', label='C++ (A-cross-B)')\n",
    "plt.ylabel('g')\n",
    "plt.xlabel('ln(t/ts)')\n",
    "plt.legend()\n",
    "plt.title('Field \"A\"; D=1; H=100; r_b=0.05; B=5')\n",
    "plt.show()"
   ]
  },
  {
   "cell_type": "code",
   "execution_count": null,
   "metadata": {},
   "outputs": [],
   "source": [
    "N_1 = 2\n",
    "N_2 = 2\n",
    "bf_2_2 = gt.boreholes.rectangle_field(N_1=N_1, N_2=N_2, B_1=B_1, B_2=B_2, H=H, D=D, r_b=r_b)"
   ]
  },
  {
   "cell_type": "code",
   "execution_count": null,
   "metadata": {},
   "outputs": [],
   "source": [
    "bf_2_2"
   ]
  },
  {
   "cell_type": "code",
   "execution_count": null,
   "metadata": {},
   "outputs": [],
   "source": [
    "pyg_2_2 = gt.gfunction.uniform_heat_extraction(bf_2_2, time, alpha, disp=True)"
   ]
  },
  {
   "cell_type": "code",
   "execution_count": null,
   "metadata": {},
   "outputs": [],
   "source": [
    "plt.plot(lntts, pyg_2_2, linestyle='--', marker='x', label='pygfunction (2x2 self)')\n",
    "plt.plot(lntts, g_self + g_cross, linestyle='-', marker='o', label='C++ (1x2 self + 1x2 cross)')\n",
    "plt.ylabel('g')\n",
    "plt.xlabel('ln(t/ts)')\n",
    "plt.legend()\n",
    "plt.title('1x2-self, 1x2-cross, (2x2 rect); D=1; H=100; r_b=0.05; B=5')\n",
    "plt.show()"
   ]
  },
  {
   "cell_type": "code",
   "execution_count": null,
   "metadata": {},
   "outputs": [],
   "source": [
    "if sys.platform == 'win32':\n",
    "    c_data_2_2_L = np.genfromtxt('D:\\\\Dropbox\\\\OSU\\\\Research\\\\GHX Modeling\\\\g_function\\\\gfunction\\\\examples\\\\2x2_L-self_single_cross_out.csv', \n",
    "                           delimiter=',', \n",
    "                           skip_header=1, \n",
    "                           unpack=True)\n",
    "elif sys.platform == 'darwin':\n",
    "    c_data_2_2_L = np.genfromtxt('/Users/mattmitchell/Projects/gFunction/examples/2x2-L-self_single_cross_out.csv', \n",
    "                           delimiter=',', \n",
    "                           skip_header=1, \n",
    "                           unpack=True)"
   ]
  },
  {
   "cell_type": "code",
   "execution_count": null,
   "metadata": {},
   "outputs": [],
   "source": [
    "g_self_1_2_L = c_data_2_2_L[1][:]\n",
    "g_cross_1_2_L = c_data_2_2_L[2][:]"
   ]
  },
  {
   "cell_type": "code",
   "execution_count": null,
   "metadata": {},
   "outputs": [],
   "source": [
    "N_1 = 2\n",
    "N_2 = 2\n",
    "bf_2_2_L = gt.boreholes.L_shaped_field(N_1=N_1, N_2=N_2, B_1=B_1, B_2=B_2, H=H, D=D, r_b=r_b)"
   ]
  },
  {
   "cell_type": "code",
   "execution_count": null,
   "metadata": {},
   "outputs": [],
   "source": [
    "bf_2_2_L"
   ]
  },
  {
   "cell_type": "code",
   "execution_count": null,
   "metadata": {},
   "outputs": [],
   "source": [
    "pyg_2_2_L = gt.gfunction.uniform_heat_extraction(bf_2_2_L, time, alpha, disp=True)"
   ]
  },
  {
   "cell_type": "code",
   "execution_count": null,
   "metadata": {},
   "outputs": [],
   "source": [
    "plt.plot(lntts, pyg_2_2_L, linestyle='--', marker='x', label='pygfunction (2x2 L-shaped self)')\n",
    "plt.plot(lntts, g_self_1_2_L, linestyle='-', marker='o', label='C++ (2x2 L-shaped self)')\n",
    "plt.ylabel('g')\n",
    "plt.xlabel('ln(t/ts)')\n",
    "plt.legend()\n",
    "plt.title('2x2 L-shaped self; D=1; H=100; r_b=0.05; B=5')\n",
    "plt.show()"
   ]
  },
  {
   "cell_type": "code",
   "execution_count": null,
   "metadata": {},
   "outputs": [],
   "source": [
    "plt.plot(lntts, pyg_2_2, linestyle='--', marker='x', label='pygfunction (2x2 self)')\n",
    "plt.plot(lntts, g_self_1_2_L + g_cross_1_2_L, linestyle='-', marker='o', label='C++ (2x2-L-single 2x2-L-cross)')\n",
    "plt.ylabel('g')\n",
    "plt.xlabel('ln(t/ts)')\n",
    "plt.legend()\n",
    "plt.title('Single-self, 2x2-L cross; D=1; H=100; r_b=0.05; B=5')\n",
    "plt.show()"
   ]
  },
  {
   "cell_type": "code",
   "execution_count": null,
   "metadata": {},
   "outputs": [],
   "source": [
    "N_1 = 1\n",
    "N_2 = 1\n",
    "bf_single = gt.boreholes.L_shaped_field(N_1=N_1, N_2=N_2, B_1=B_1, B_2=B_2, H=H, D=D, r_b=r_b)"
   ]
  },
  {
   "cell_type": "code",
   "execution_count": null,
   "metadata": {},
   "outputs": [],
   "source": [
    "bf_single"
   ]
  },
  {
   "cell_type": "code",
   "execution_count": null,
   "metadata": {},
   "outputs": [],
   "source": [
    "pyg_single = gt.gfunction.uniform_heat_extraction(bf_single, time, alpha, disp=True)"
   ]
  },
  {
   "cell_type": "code",
   "execution_count": null,
   "metadata": {},
   "outputs": [],
   "source": [
    "if sys.platform == 'win32':\n",
    "    c_data_single = np.genfromtxt('D:\\\\Dropbox\\\\OSU\\\\Research\\\\GHX Modeling\\\\g_function\\\\gfunction\\\\examples\\\\single_self_2x2_L-cross_out.csv', \n",
    "                           delimiter=',', \n",
    "                           skip_header=1, \n",
    "                           unpack=True)\n",
    "elif sys.platform == 'darwin':\n",
    "    c_data_single = np.genfromtxt('/Users/mattmitchell/Projects/gFunction/examples/single_self_2x2_L-cross_out.csv', \n",
    "                           delimiter=',', \n",
    "                           skip_header=1, \n",
    "                           unpack=True)"
   ]
  },
  {
   "cell_type": "code",
   "execution_count": null,
   "metadata": {},
   "outputs": [],
   "source": [
    "g_self_single = c_data_2_2_L[1][:]\n",
    "g_cross_single = c_data_2_2_L[2][:]"
   ]
  },
  {
   "cell_type": "code",
   "execution_count": null,
   "metadata": {},
   "outputs": [],
   "source": [
    "plt.plot(lntts, pyg_single, linestyle='--', marker='x', label='pygfunction (single self)')\n",
    "plt.plot(lntts, g_self_single, linestyle='-', marker='o', label='C++ (single self)')\n",
    "plt.ylabel('g')\n",
    "plt.xlabel('ln(t/ts)')\n",
    "plt.legend()\n",
    "plt.title('Single; D=1; H=100; r_b=0.05; B=5')\n",
    "plt.show()"
   ]
  },
  {
   "cell_type": "code",
   "execution_count": null,
   "metadata": {},
   "outputs": [],
   "source": [
    "plt.plot(lntts, pyg_2_2, linestyle='--', marker='x', label='pygfunction (2x2 self)')\n",
    "plt.plot(lntts, g_self_single + g_cross_single, linestyle='-', marker='o', label='C++ (single-self + 2x2-L-cross)')\n",
    "plt.ylabel('g')\n",
    "plt.xlabel('ln(t/ts)')\n",
    "plt.legend()\n",
    "plt.title('Single-self, 2x2-L cross; D=1; H=100; r_b=0.05; B=5')\n",
    "plt.show()"
   ]
  },
  {
   "cell_type": "code",
   "execution_count": null,
   "metadata": {},
   "outputs": [],
   "source": []
  }
 ],
 "metadata": {
  "kernelspec": {
   "display_name": "Python 3",
   "language": "python",
   "name": "python3"
  },
  "language_info": {
   "codemirror_mode": {
    "name": "ipython",
    "version": 3
   },
   "file_extension": ".py",
   "mimetype": "text/x-python",
   "name": "python",
   "nbconvert_exporter": "python",
   "pygments_lexer": "ipython3",
   "version": "3.7.3"
  }
 },
 "nbformat": 4,
 "nbformat_minor": 2
}
