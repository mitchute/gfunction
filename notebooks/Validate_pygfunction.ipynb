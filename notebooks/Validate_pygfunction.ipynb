{
 "cells": [
  {
   "cell_type": "code",
   "execution_count": null,
   "metadata": {},
   "outputs": [],
   "source": [
    "import os\n",
    "import sys\n",
    "\n",
    "import numpy as np\n",
    "import pygfunction as gt\n",
    "\n",
    "from math import exp, log"
   ]
  },
  {
   "cell_type": "code",
   "execution_count": null,
   "metadata": {},
   "outputs": [],
   "source": [
    "import matplotlib.pyplot as plt\n",
    "%matplotlib inline"
   ]
  },
  {
   "cell_type": "code",
   "execution_count": null,
   "metadata": {},
   "outputs": [],
   "source": [
    "plt.style.use('ggplot')\n",
    "plt.rcParams['figure.figsize'] = [15, 9]\n",
    "plt.rcParams['font.size'] = 14"
   ]
  },
  {
   "cell_type": "markdown",
   "metadata": {},
   "source": [
    "![Field A-B](Field-A-B.PNG)"
   ]
  },
  {
   "cell_type": "code",
   "execution_count": null,
   "metadata": {},
   "outputs": [],
   "source": [
    "B = 5\n",
    "D = 1\n",
    "H = 100\n",
    "r_b = 0.05\n",
    "bf_A = gt.boreholes.rectangle_field(N_1=1, N_2=2, B_1=B, B_2=B, H=H, D=D, r_b=r_b)"
   ]
  },
  {
   "cell_type": "code",
   "execution_count": null,
   "metadata": {},
   "outputs": [],
   "source": [
    "bf_A"
   ]
  },
  {
   "cell_type": "code",
   "execution_count": null,
   "metadata": {},
   "outputs": [],
   "source": [
    "alpha = 1e-6\n",
    "ts = H**2/(9.*alpha)"
   ]
  },
  {
   "cell_type": "code",
   "execution_count": null,
   "metadata": {},
   "outputs": [],
   "source": [
    "lntts = np.arange(-8.5, 3.5, 0.5)"
   ]
  },
  {
   "cell_type": "code",
   "execution_count": null,
   "metadata": {},
   "outputs": [],
   "source": [
    "time = np.exp(lntts) * ts"
   ]
  },
  {
   "cell_type": "code",
   "execution_count": null,
   "metadata": {},
   "outputs": [],
   "source": [
    "pyg_A = gt.gfunction.uniform_heat_extraction(bf_A, time, alpha, disp=True)"
   ]
  },
  {
   "cell_type": "code",
   "execution_count": null,
   "metadata": {},
   "outputs": [],
   "source": [
    "cpp_data_A = np.genfromtxt('../examples/1x2-self_1x2_cross_out.csv', \n",
    "                           delimiter=',', \n",
    "                           skip_header=1, \n",
    "                           unpack=True)"
   ]
  },
  {
   "cell_type": "code",
   "execution_count": null,
   "metadata": {},
   "outputs": [],
   "source": [
    "cpp_g_self_A = cpp_data_A[1][:]\n",
    "cpp_g_cross_A = cpp_data_A[2][:]"
   ]
  },
  {
   "cell_type": "code",
   "execution_count": null,
   "metadata": {},
   "outputs": [],
   "source": [
    "plt.plot(lntts, pyg_A, linestyle='--', marker='x', label='pygfunction (A-self)')\n",
    "plt.plot(lntts, cpp_g_self_A, linestyle='-', marker='o', label='C++ (A-self)')\n",
    "plt.plot(lntts, cpp_g_cross_A, linestyle=':', marker='X', label='C++ (A-cross-B)')\n",
    "plt.ylabel('g')\n",
    "plt.xlabel('ln(t/ts)')\n",
    "plt.legend()\n",
    "plt.title('Field \"A\"; D=1; H=100; r_b=0.05; B=5')\n",
    "plt.show()"
   ]
  },
  {
   "cell_type": "code",
   "execution_count": null,
   "metadata": {},
   "outputs": [],
   "source": [
    "bf_2_2 = gt.boreholes.rectangle_field(N_1=2, N_2=2, B_1=B, B_2=B, H=H, D=D, r_b=r_b)"
   ]
  },
  {
   "cell_type": "code",
   "execution_count": null,
   "metadata": {},
   "outputs": [],
   "source": [
    "bf_2_2"
   ]
  },
  {
   "cell_type": "code",
   "execution_count": null,
   "metadata": {},
   "outputs": [],
   "source": [
    "pyg_2_2 = gt.gfunction.uniform_heat_extraction(bf_2_2, time, alpha, disp=True)"
   ]
  },
  {
   "cell_type": "code",
   "execution_count": null,
   "metadata": {},
   "outputs": [],
   "source": [
    "plt.plot(lntts, pyg_2_2, linestyle='--', marker='x', label='pygfunction (2x2 self)')\n",
    "plt.plot(lntts, cpp_g_self_A + cpp_g_cross_A, linestyle='-', marker='o', label='C++ (1x2 A-self + 1x2 A-cross-B)')\n",
    "plt.ylabel('g')\n",
    "plt.xlabel('ln(t/ts)')\n",
    "plt.legend()\n",
    "plt.title('2x2 Rect.; D=1; H=100; r_b=0.05; B=5')\n",
    "plt.show()"
   ]
  },
  {
   "cell_type": "markdown",
   "metadata": {},
   "source": [
    "![Field C-D](Field-C-D.PNG)"
   ]
  },
  {
   "cell_type": "code",
   "execution_count": null,
   "metadata": {},
   "outputs": [],
   "source": [
    "cpp_data_D = np.genfromtxt('../examples/2x2_L-self_single_cross_out.csv', \n",
    "                           delimiter=',', \n",
    "                           skip_header=1, \n",
    "                           unpack=True)"
   ]
  },
  {
   "cell_type": "code",
   "execution_count": null,
   "metadata": {},
   "outputs": [],
   "source": [
    "cpp_g_self_D = cpp_data_D[1][:]\n",
    "cpp_g_cross_D = cpp_data_D[2][:]"
   ]
  },
  {
   "cell_type": "code",
   "execution_count": null,
   "metadata": {},
   "outputs": [],
   "source": [
    "bf_D = gt.boreholes.L_shaped_field(N_1=2, N_2=2, B_1=B, B_2=B, H=H, D=D, r_b=r_b)"
   ]
  },
  {
   "cell_type": "code",
   "execution_count": null,
   "metadata": {},
   "outputs": [],
   "source": [
    "bf_D"
   ]
  },
  {
   "cell_type": "code",
   "execution_count": null,
   "metadata": {},
   "outputs": [],
   "source": [
    "pyg_D = gt.gfunction.uniform_heat_extraction(bf_D, time, alpha, disp=True)"
   ]
  },
  {
   "cell_type": "code",
   "execution_count": null,
   "metadata": {},
   "outputs": [],
   "source": [
    "plt.plot(lntts, pyg_2_2, linestyle='--', marker='x', label='pygfunction (2x2 self)')\n",
    "plt.plot(lntts, cpp_g_self_D, linestyle='-', marker='o', label='C++ (2x2 L-shaped D-self)')\n",
    "plt.plot(lntts, cpp_g_cross_D, linestyle='-', marker='o', label='C++ (2x2 L-shaped D-cross-C)')\n",
    "plt.plot(lntts, cpp_g_self_D + cpp_g_cross_D, linestyle='-', marker='o', label='C++ (2x2 L-shaped D-self + D-cross-C)')\n",
    "plt.ylabel('g')\n",
    "plt.xlabel('ln(t/ts)')\n",
    "plt.legend()\n",
    "plt.title('2x2 L-shaped D-self; D=1; H=100; r_b=0.05; B=5')\n",
    "plt.show()"
   ]
  },
  {
   "cell_type": "code",
   "execution_count": null,
   "metadata": {},
   "outputs": [],
   "source": [
    "cpp_data_C = np.genfromtxt('../examples/single_self_2x2_L-cross_out.csv', \n",
    "                           delimiter=',', \n",
    "                           skip_header=1, \n",
    "                           unpack=True)"
   ]
  },
  {
   "cell_type": "code",
   "execution_count": null,
   "metadata": {},
   "outputs": [],
   "source": [
    "cpp_g_self_C = cpp_data_C[1][:]\n",
    "cpp_g_cross_C = cpp_data_C[2][:]"
   ]
  },
  {
   "cell_type": "code",
   "execution_count": null,
   "metadata": {},
   "outputs": [],
   "source": [
    "bf_C = gt.boreholes.rectangle_field(N_1=1, N_2=1, B_1=B, B_2=B, H=H, D=D, r_b=r_b)"
   ]
  },
  {
   "cell_type": "code",
   "execution_count": null,
   "metadata": {},
   "outputs": [],
   "source": [
    "bf_C"
   ]
  },
  {
   "cell_type": "code",
   "execution_count": null,
   "metadata": {},
   "outputs": [],
   "source": [
    "pyg_C = gt.gfunction.uniform_heat_extraction(bf_C, time, alpha, disp=True)"
   ]
  },
  {
   "cell_type": "code",
   "execution_count": null,
   "metadata": {},
   "outputs": [],
   "source": [
    "plt.plot(lntts, pyg_2_2, linestyle='--', marker='x', label='pygfunction (2x2 self)')\n",
    "plt.plot(lntts, cpp_g_self_C, linestyle='-', marker='o', label='C++ (Single C-self)')\n",
    "plt.plot(lntts, cpp_g_cross_C, linestyle='-', marker='o', label='C++ (Single C-cross-D)')\n",
    "plt.plot(lntts, cpp_g_self_C + cpp_g_cross_C, linestyle='-', marker='o', label='C++ (Single C-self + C-cross-D)')\n",
    "plt.ylabel('g')\n",
    "plt.xlabel('ln(t/ts)')\n",
    "plt.legend()\n",
    "plt.title('Single C-self; D=1; H=100; r_b=0.05; B=5')\n",
    "plt.show()"
   ]
  }
 ],
 "metadata": {
  "kernelspec": {
   "display_name": "Python 3",
   "language": "python",
   "name": "python3"
  },
  "language_info": {
   "codemirror_mode": {
    "name": "ipython",
    "version": 3
   },
   "file_extension": ".py",
   "mimetype": "text/x-python",
   "name": "python",
   "nbconvert_exporter": "python",
   "pygments_lexer": "ipython3",
   "version": "3.6.8"
  }
 },
 "nbformat": 4,
 "nbformat_minor": 2
}
