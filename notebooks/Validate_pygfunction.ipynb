{
 "cells": [
  {
   "cell_type": "code",
   "execution_count": null,
   "metadata": {},
   "outputs": [],
   "source": [
    "import os\n",
    "import sys\n",
    "\n",
    "import numpy as np\n",
    "import pygfunction as gt\n",
    "\n",
    "from math import exp, log"
   ]
  },
  {
   "cell_type": "code",
   "execution_count": null,
   "metadata": {},
   "outputs": [],
   "source": [
    "import matplotlib.pyplot as plt\n",
    "%matplotlib inline"
   ]
  },
  {
   "cell_type": "code",
   "execution_count": null,
   "metadata": {},
   "outputs": [],
   "source": [
    "plt.style.use('seaborn-bright')\n",
    "plt.rcParams['figure.figsize'] = [15, 9]\n",
    "plt.rcParams['font.size'] = 12"
   ]
  },
  {
   "cell_type": "markdown",
   "metadata": {},
   "source": [
    "![Field A-B](Field-A-B.PNG)"
   ]
  },
  {
   "cell_type": "code",
   "execution_count": null,
   "metadata": {},
   "outputs": [],
   "source": [
    "B = 5\n",
    "D = 1\n",
    "H = 100\n",
    "r_b = 0.05\n",
    "bf_A = gt.boreholes.rectangle_field(N_1=1, N_2=2, B_1=B, B_2=B, H=H, D=D, r_b=r_b)"
   ]
  },
  {
   "cell_type": "code",
   "execution_count": null,
   "metadata": {},
   "outputs": [],
   "source": [
    "bf_A"
   ]
  },
  {
   "cell_type": "code",
   "execution_count": null,
   "metadata": {},
   "outputs": [],
   "source": [
    "alpha = 1e-6\n",
    "ts = H**2/(9.*alpha)"
   ]
  },
  {
   "cell_type": "code",
   "execution_count": null,
   "metadata": {},
   "outputs": [],
   "source": [
    "lntts = np.arange(-8.5, 3.5, 0.5)\n",
    "lntts_py = np.arange(-8.25, 3.75, 0.5)"
   ]
  },
  {
   "cell_type": "code",
   "execution_count": null,
   "metadata": {},
   "outputs": [],
   "source": [
    "time = np.exp(lntts_py) * ts"
   ]
  },
  {
   "cell_type": "code",
   "execution_count": null,
   "metadata": {},
   "outputs": [],
   "source": [
    "pyg_A = gt.gfunction.uniform_heat_extraction(bf_A, time, alpha, disp=True)"
   ]
  },
  {
   "cell_type": "code",
   "execution_count": null,
   "metadata": {},
   "outputs": [],
   "source": [
    "cpp_data_A = np.genfromtxt('../examples/1x2-self_1x2_cross_out.csv', \n",
    "                           delimiter=',', \n",
    "                           skip_header=1, \n",
    "                           unpack=True)"
   ]
  },
  {
   "cell_type": "code",
   "execution_count": null,
   "metadata": {},
   "outputs": [],
   "source": [
    "cpp_g_self_A = cpp_data_A[1][:]\n",
    "cpp_g_cross_A = cpp_data_A[2][:]"
   ]
  },
  {
   "cell_type": "code",
   "execution_count": null,
   "metadata": {},
   "outputs": [],
   "source": [
    "fig = plt.figure(figsize=(7, 5), dpi=200)\n",
    "ax = fig.add_subplot(1, 1, 1)\n",
    "\n",
    "ax.plot(lntts_py, pyg_A, linestyle='-', marker='X', label=r'$g_{A\\to A}$ (Reference)')\n",
    "ax.plot(lntts, cpp_g_self_A, linestyle='--', marker='s', label=r'$g_{A\\to A}$')\n",
    "ax.plot(lntts, cpp_g_cross_A, linestyle=':', marker='v', label=r'$g_{B\\to A}$')\n",
    "\n",
    "plt.grid()\n",
    "plt.legend()\n",
    "plt.ylabel('g')\n",
    "plt.xlabel('ln(t/ts)')\n",
    "plt.title(r'Field A-B; B=5m, D=1m; H=100m; $r_b$=0.05m')\n",
    "plt.savefig('Field_A-B_g_functions.PNG', bbox_inches='tight')\n",
    "plt.show()"
   ]
  },
  {
   "cell_type": "code",
   "execution_count": null,
   "metadata": {},
   "outputs": [],
   "source": [
    "bf_C = gt.boreholes.rectangle_field(N_1=2, N_2=2, B_1=B, B_2=B, H=H, D=D, r_b=r_b)"
   ]
  },
  {
   "cell_type": "code",
   "execution_count": null,
   "metadata": {},
   "outputs": [],
   "source": [
    "bf_C"
   ]
  },
  {
   "cell_type": "code",
   "execution_count": null,
   "metadata": {},
   "outputs": [],
   "source": [
    "pyg_C = gt.gfunction.uniform_heat_extraction(bf_C, time, alpha, disp=True)"
   ]
  },
  {
   "cell_type": "code",
   "execution_count": null,
   "metadata": {},
   "outputs": [],
   "source": [
    "fig = plt.figure(figsize=(7, 5), dpi=200)\n",
    "ax = fig.add_subplot(1, 1, 1)\n",
    "\n",
    "ax.plot(lntts_py, pyg_C, linestyle='-', marker='X', label=r'$g_{C\\to C}$ (Reference)')\n",
    "ax.plot(lntts, cpp_g_self_A, linestyle='--', marker='s', label=r'$g_{A\\to A}$')\n",
    "ax.plot(lntts, cpp_g_cross_A, linestyle=':', marker='v', label=r'$g_{B\\to A}$')\n",
    "ax.plot(lntts, cpp_g_self_A + cpp_g_cross_A, linestyle='-.', marker='p', label=r'$g_{A\\to A} + g_{B\\to A}$')\n",
    "\n",
    "plt.grid()\n",
    "plt.legend()\n",
    "plt.ylabel('g')\n",
    "plt.xlabel('ln(t/ts)')\n",
    "plt.title(r'Fields C, A-B; B=5m, D=1m; H=100m; $r_b$=0.05m')\n",
    "plt.savefig('Field_A-B-C_g_functions.PNG', bbox_inches='tight')\n",
    "plt.show()"
   ]
  },
  {
   "cell_type": "markdown",
   "metadata": {},
   "source": [
    "![Field C-D](Field-D-E.PNG)"
   ]
  },
  {
   "cell_type": "code",
   "execution_count": null,
   "metadata": {},
   "outputs": [],
   "source": [
    "cpp_data_E = np.genfromtxt('../examples/2x2_L-self_single_cross_out.csv', \n",
    "                           delimiter=',', \n",
    "                           skip_header=1, \n",
    "                           unpack=True)"
   ]
  },
  {
   "cell_type": "code",
   "execution_count": null,
   "metadata": {},
   "outputs": [],
   "source": [
    "cpp_g_self_E = cpp_data_E[1][:]\n",
    "cpp_g_cross_E = cpp_data_E[2][:]"
   ]
  },
  {
   "cell_type": "code",
   "execution_count": null,
   "metadata": {},
   "outputs": [],
   "source": [
    "bf_E = gt.boreholes.L_shaped_field(N_1=2, N_2=2, B_1=B, B_2=B, H=H, D=D, r_b=r_b)"
   ]
  },
  {
   "cell_type": "code",
   "execution_count": null,
   "metadata": {},
   "outputs": [],
   "source": [
    "bf_E"
   ]
  },
  {
   "cell_type": "code",
   "execution_count": null,
   "metadata": {},
   "outputs": [],
   "source": [
    "pyg_E = gt.gfunction.uniform_heat_extraction(bf_E, time, alpha, disp=True)"
   ]
  },
  {
   "cell_type": "code",
   "execution_count": null,
   "metadata": {},
   "outputs": [],
   "source": [
    "fig = plt.figure(figsize=(7, 5), dpi=200)\n",
    "ax = fig.add_subplot(1, 1, 1)\n",
    "\n",
    "ax.plot(lntts_py, pyg_C, linestyle='-', marker='X', label=r'$g_{C\\to C}$ (Reference)')\n",
    "ax.plot(lntts, cpp_g_self_E, linestyle='--', marker='s', label=r'$g_{E\\to E}$')\n",
    "ax.plot(lntts, cpp_g_cross_E, linestyle=':', marker='v', label=r'$g_{D\\to E}$')\n",
    "ax.plot(lntts, cpp_g_self_E + cpp_g_cross_E, linestyle='-.', marker='p', label=r'$g_{E\\to E} + g_{D\\to E}$')\n",
    "\n",
    "plt.grid()\n",
    "plt.legend()\n",
    "plt.ylabel('g')\n",
    "plt.xlabel('ln(t/ts)')\n",
    "plt.title(r'Fields C, E-D; B=5m D=1m; H=100m; $r_b$=0.05m')\n",
    "plt.savefig('Field_C-E-D_g_functions.PNG', bbox_inches='tight')\n",
    "plt.show()"
   ]
  },
  {
   "cell_type": "code",
   "execution_count": null,
   "metadata": {},
   "outputs": [],
   "source": [
    "cpp_data_D = np.genfromtxt('../examples/single_self_2x2_L-cross_out.csv', \n",
    "                           delimiter=',', \n",
    "                           skip_header=1, \n",
    "                           unpack=True)"
   ]
  },
  {
   "cell_type": "code",
   "execution_count": null,
   "metadata": {},
   "outputs": [],
   "source": [
    "cpp_g_self_D = cpp_data_D[1][:]\n",
    "cpp_g_cross_D = cpp_data_D[2][:]"
   ]
  },
  {
   "cell_type": "code",
   "execution_count": null,
   "metadata": {},
   "outputs": [],
   "source": [
    "bf_D = gt.boreholes.rectangle_field(N_1=1, N_2=1, B_1=B, B_2=B, H=H, D=D, r_b=r_b)"
   ]
  },
  {
   "cell_type": "code",
   "execution_count": null,
   "metadata": {},
   "outputs": [],
   "source": [
    "bf_D"
   ]
  },
  {
   "cell_type": "code",
   "execution_count": null,
   "metadata": {},
   "outputs": [],
   "source": [
    "pyg_D = gt.gfunction.uniform_heat_extraction(bf_D, time, alpha, disp=True)"
   ]
  },
  {
   "cell_type": "code",
   "execution_count": null,
   "metadata": {},
   "outputs": [],
   "source": [
    "fig = plt.figure(figsize=(7, 5), dpi=200)\n",
    "ax = fig.add_subplot(1, 1, 1)\n",
    "\n",
    "ax.plot(lntts_py, pyg_C, linestyle='-', marker='X', label=r'$g_{C\\to C}$ (Reference)')\n",
    "ax.plot(lntts, cpp_g_self_D, linestyle='--', marker='s', label=r'$g_{D\\to D}$')\n",
    "ax.plot(lntts, cpp_g_cross_D, linestyle=':', marker='v', label=r'$g_{E\\to D}$')\n",
    "ax.plot(lntts, cpp_g_self_D + cpp_g_cross_D, linestyle='-.', marker='p', label=r'$g_{D\\to D} + g_{E\\to D}$')\n",
    "\n",
    "plt.grid()\n",
    "plt.legend()\n",
    "plt.ylabel('g')\n",
    "plt.xlabel('ln(t/ts)')\n",
    "plt.title(r'Fields C, D-E; B=5m, D=1m; H=100m; $r_b$=0.05m')\n",
    "plt.savefig('Field_C-D-E_g_functions.PNG', bbox_inches='tight')\n",
    "plt.show()"
   ]
  }
 ],
 "metadata": {
  "kernelspec": {
   "display_name": "Python 3",
   "language": "python",
   "name": "python3"
  },
  "language_info": {
   "codemirror_mode": {
    "name": "ipython",
    "version": 3
   },
   "file_extension": ".py",
   "mimetype": "text/x-python",
   "name": "python",
   "nbconvert_exporter": "python",
   "pygments_lexer": "ipython3",
   "version": "3.7.3"
  }
 },
 "nbformat": 4,
 "nbformat_minor": 2
}
